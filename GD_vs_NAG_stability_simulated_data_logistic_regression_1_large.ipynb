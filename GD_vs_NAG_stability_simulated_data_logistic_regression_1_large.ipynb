{
 "cells": [
  {
   "cell_type": "code",
   "execution_count": 1,
   "metadata": {},
   "outputs": [],
   "source": [
    "import numpy as np\n",
    "%matplotlib inline\n",
    "\n",
    "import matplotlib\n",
    "import matplotlib.pyplot as plt\n",
    "\n",
    "# basic plot settings\n",
    "import plot_basic\n",
    "\n",
    "# python implementation of various gradient based methods\n",
    "import gradient_methods"
   ]
  },
  {
   "cell_type": "code",
   "execution_count": 2,
   "metadata": {},
   "outputs": [],
   "source": [
    "# set random seed\n",
    "np.random.seed(123456)\n",
    "# sample size\n",
    "n = 10000\n",
    "# number of dimensions\n",
    "p = 200\n",
    "\n",
    "# i.i.d. normal data with decreasing covariance on kth coordinate\n",
    "X = np.random.normal(0, [1./k for k in range(1, p+1)], (n, p))\n",
    "X = X/np.sqrt((X * X).mean(axis=1))[:, None]\n",
    "beta_star = np.ones(p)\n",
    "h = 1.0/(1+np.exp(-np.dot(X, beta_star)))\n",
    "\n",
    "Y = np.random.binomial(1, h, n)\n",
    "\n",
    "n1 = 2000\n",
    "\n",
    "X1 = X[:n1, :]\n",
    "Y1 = Y[:n1]\n",
    "X2 = X[:n1, :].copy()\n",
    "Y2 = Y[:n1].copy()\n",
    "X2[n1-1, :] = X[n1+21, :]\n",
    "Y2[n1-1] = Y[n1+21]\n",
    "TX = X[n1+100:, :]\n",
    "TY = Y[n1+100:]\n",
    "\n",
    "# folder to save figures\n",
    "figure_folder = 'Figures/'"
   ]
  },
  {
   "cell_type": "code",
   "execution_count": 3,
   "metadata": {},
   "outputs": [],
   "source": [
    "# gradient of logistic regression\n",
    "def grad_logistic(prev_pt, X, Y):\n",
    "    hx = 1.0/(1+np.exp(-np.dot(X, prev_pt)))\n",
    "    grad = 1.0/Y.shape[0]*np.dot((hx-Y), X)\n",
    "    return grad\n",
    "\n",
    "# function value of logistic regression\n",
    "def f_logistic(prev_pt, X, Y):\n",
    "    hx = 1.0/(1+np.exp(-np.dot(X, prev_pt.T)))\n",
    "    f = -1.0/Y.shape[0]*(Y.dot(np.log(hx+1e-7)) + (1.-Y).dot(np.log(1.-hx+1e-7)))\n",
    "    return f"
   ]
  },
  {
   "cell_type": "code",
   "execution_count": 4,
   "metadata": {},
   "outputs": [],
   "source": [
    "def nesterov_logistic(x0, X, Y, step_size, T=1000):\n",
    "    return gradient_methods.nesterov(x0, lambda x: grad_logistic(x, X, Y), step_size, T)\n",
    "\n",
    "def fg_logistic(x0, X, Y, step_size, T=1000):\n",
    "    return gradient_methods.fg(x0, lambda x: grad_logistic(x, X, Y), step_size, T)"
   ]
  },
  {
   "cell_type": "code",
   "execution_count": null,
   "metadata": {},
   "outputs": [],
   "source": [
    "initial = 1.*np.random.randn(X.shape[1])\n",
    "T = 10000\n",
    "stepsize = 0.02\n",
    "# RUN!\n",
    "x_nes, y_nes = nesterov_logistic(initial, X1, Y1, stepsize, T)\n",
    "x_nes2, y_nes2 = nesterov_logistic(initial, X2, Y2, stepsize, T)\n",
    "\n",
    "x_fg = fg_logistic(initial, X1,  Y1, stepsize, T)\n",
    "x_fg2 = fg_logistic(initial, X2, Y2, stepsize, T)"
   ]
  },
  {
   "cell_type": "code",
   "execution_count": null,
   "metadata": {},
   "outputs": [],
   "source": [
    "# calculate oracle values for comparison\n",
    "f_star = f_logistic(beta_star, X1, Y1)\n",
    "Tf_star = f_logistic(beta_star, X1, Y1)"
   ]
  },
  {
   "cell_type": "code",
   "execution_count": null,
   "metadata": {},
   "outputs": [],
   "source": [
    "# compute stability for GD and NAG\n",
    "stab_fg = np.linalg.norm(x_fg-x_fg2, axis=1)\n",
    "stab_nes = np.linalg.norm(y_nes-y_nes2, axis=1)\n",
    "\n",
    "# also get the function values\n",
    "f_fg = f_logistic(x_fg, X1, Y1)\n",
    "Tf_fg = f_logistic(x_fg, TX, TY)\n",
    "\n",
    "f_nes = f_logistic(y_nes, X1, Y1)\n",
    "Tf_nes = f_logistic(y_nes, TX, TY)"
   ]
  },
  {
   "cell_type": "code",
   "execution_count": null,
   "metadata": {},
   "outputs": [],
   "source": [
    "# estimate stability using 10 repeats\n",
    "stab_nes_max = stab_nes.copy()\n",
    "stab_fg_max = stab_fg.copy()\n",
    "\n",
    "\n",
    "for i in range(10):\n",
    "    X3 = X[:n1, :].copy()\n",
    "    Y3 = Y[:n1].copy()\n",
    "    X3[n1-1, :] = X[n1+22+i, :]\n",
    "    Y3[n1-1] = Y[n1+22+i]\n",
    "    x_nes3, y_nes3 = nesterov_logistic(initial, X3, Y3, stepsize, T)\n",
    "    x_fg3 = fg_logistic(initial, X3,  Y3, stepsize, T)\n",
    "\n",
    "    \n",
    "    stab_nes_max = np.maximum(np.linalg.norm(y_nes-y_nes3, axis=1), stab_nes_max)\n",
    "    stab_fg_max = np.maximum(np.linalg.norm(x_fg-x_fg3, axis=1), stab_fg_max)"
   ]
  },
  {
   "cell_type": "code",
   "execution_count": null,
   "metadata": {},
   "outputs": [],
   "source": [
    "plt.figure(figsize=(12, 8))\n",
    "plt.loglog(f_fg, 'b', label='optimization error (GD)')\n",
    "\n",
    "plt.loglog(Tf_fg, 'b', label='test error (GD)', linewidth=10, alpha=0.5)\n",
    "\n",
    "plt.loglog(stab_fg_max, 'b--', label='stability (GD)',  linewidth=5)\n",
    "\n",
    "# plt.loglog(f_fg + stab_fg_max, '--', color='g', linewidth=5, label='optimization + stab (GD)')\n",
    "\n",
    "plt.axhline(3*np.sqrt(1.0*p/n1), color='magenta', label='simple uniform convergence bound')\n",
    "\n",
    "plt.legend()\n",
    "plt.ylim(0.00001, 10)\n",
    "plt.xlabel(\"steps\")\n",
    "plt.ylabel(\"risk\")\n",
    "plt.legend(loc='lower right', prop={'size': 20})\n",
    "plt.grid(True)\n",
    "\n",
    "plt.savefig('%sstab_GD_large.png'%figure_folder, transparent=True)\n",
    "\n",
    "plt.show()"
   ]
  },
  {
   "cell_type": "code",
   "execution_count": null,
   "metadata": {},
   "outputs": [],
   "source": [
    "plt.figure(figsize=(12, 8))\n",
    "\n",
    "plt.loglog(f_nes, 'r', label='optimization error (NAG)')\n",
    "\n",
    "plt.loglog(Tf_nes, 'r', label='test error (NAG)', linewidth=10, alpha=0.5)\n",
    "\n",
    "plt.loglog(stab_nes_max, 'r--', label='stability (NAG)', linewidth=5)\n",
    "\n",
    "# plt.loglog(f_nes + stab_nes_max, '--', color='orange',  linewidth=5, label='optimization + stab (NAG)')\n",
    "\n",
    "plt.axhline(3*np.sqrt(1.0*p/n1), color='magenta', label='simple uniform convergence bound')\n",
    "\n",
    "plt.legend()\n",
    "plt.xlim(0, 10000)\n",
    "plt.ylim(0.00001, 10)\n",
    "plt.xlabel(\"steps\")\n",
    "plt.ylabel(\"risk\")\n",
    "plt.legend(loc='lower right', prop={'size': 20})\n",
    "plt.grid(True)\n",
    "\n",
    "plt.savefig('%sstab_NAG_large.png'%figure_folder, transparent=True)\n",
    "\n",
    "plt.show()"
   ]
  },
  {
   "cell_type": "code",
   "execution_count": null,
   "metadata": {},
   "outputs": [],
   "source": []
  }
 ],
 "metadata": {
  "kernelspec": {
   "display_name": "Python 3",
   "language": "python",
   "name": "python3"
  },
  "language_info": {
   "codemirror_mode": {
    "name": "ipython",
    "version": 3
   },
   "file_extension": ".py",
   "mimetype": "text/x-python",
   "name": "python",
   "nbconvert_exporter": "python",
   "pygments_lexer": "ipython3",
   "version": "3.6.5"
  }
 },
 "nbformat": 4,
 "nbformat_minor": 2
}
